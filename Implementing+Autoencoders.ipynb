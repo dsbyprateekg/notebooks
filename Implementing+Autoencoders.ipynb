{
 "cells": [
  {
   "cell_type": "markdown",
   "metadata": {},
   "source": [
    "Importing required libraries"
   ]
  },
  {
   "cell_type": "code",
   "execution_count": 1,
   "metadata": {},
   "outputs": [
    {
     "name": "stderr",
     "output_type": "stream",
     "text": [
      "Using TensorFlow backend.\n"
     ]
    }
   ],
   "source": [
    "import keras\n",
    "from matplotlib import pyplot as plt\n",
    "import numpy as np\n",
    "import gzip\n",
    "%matplotlib inline\n",
    "from keras.layers import Input,Conv2D,MaxPooling2D,UpSampling2D\n",
    "from keras.models import Model\n",
    "from keras.optimizers import RMSprop"
   ]
  },
  {
   "cell_type": "markdown",
   "metadata": {
    "collapsed": true
   },
   "source": [
    "Here we define a function that opens the gzip file, reads the file using bytestream.read(). \n",
    "We pass the image dimension and the total number of images to this function. \n",
    "Then, using np.frombuffer(), we convert the string stored in variable buf into a NumPy array of type float32.\n",
    "Next, we reshape the array into a three-dimensional array or tensor where the first dimension is number of images, and the second and third dimension being the dimension of the image. \n",
    "Finally, we return the NumPy array data."
   ]
  },
  {
   "cell_type": "code",
   "execution_count": 2,
   "metadata": {
    "collapsed": true
   },
   "outputs": [],
   "source": [
    "def extract_data(filename, num_images):\n",
    "    with gzip.open(filename) as bytestream:\n",
    "        bytestream.read(16)\n",
    "        buf = bytestream.read(28 * 28 * num_images)\n",
    "        data = np.frombuffer(buf, dtype=np.uint8).astype(np.float32)\n",
    "        data = data.reshape(num_images, 28,28)\n",
    "        return data"
   ]
  },
  {
   "cell_type": "markdown",
   "metadata": {},
   "source": [
    "Similarly, we define a extract labels function that opens the gzip file, reads the file using bytestream.read(), to which we pass the label dimension (1) and the total number of images. \n",
    "Then, using np.frombuffer(), we convert the string stored in variable buf into a NumPy array of type int64.\n",
    "This time, we do not need to reshape the array since the variable labels will return a column vector of dimension 60,000 x 1. Finally, we return the NumPy array labels."
   ]
  },
  {
   "cell_type": "code",
   "execution_count": 3,
   "metadata": {
    "collapsed": true
   },
   "outputs": [],
   "source": [
    "def extract_labels(filename, num_images):\n",
    "    with gzip.open(filename) as bytestream:\n",
    "        bytestream.read(8)\n",
    "        buf = bytestream.read(1 * num_images)\n",
    "        labels = np.frombuffer(buf, dtype=np.uint8).astype(np.int64)\n",
    "        return labels"
   ]
  },
  {
   "cell_type": "markdown",
   "metadata": {},
   "source": [
    "Loading the Data:\n",
    "The notMNIST dataset is an image recognition dataset of font glypyhs for the letters A through J. \n",
    "It is quite similar to the classic MNIST dataset, which contains images of handwritten digits 0 through 9: in this case, \n",
    "we'll find that the NotMNIST dataset comprises 28x28 grayscale images of 70,000 letters from A - J in total 10 categories, and 6,000 images per category."
   ]
  },
  {
   "cell_type": "code",
   "execution_count": 4,
   "metadata": {
    "collapsed": true
   },
   "outputs": [],
   "source": [
    "train_data = extract_data('C:/Users/prateek1.gupta/Downloads/notMNIST-to-MNIST-master/train-images-idx3-ubyte.gz', 60000)\n",
    "test_data = extract_data('C:/Users/prateek1.gupta/Downloads/notMNIST-to-MNIST-master/t10k-images-idx3-ubyte.gz', 10000)"
   ]
  },
  {
   "cell_type": "markdown",
   "metadata": {},
   "source": [
    "We will now call the function extract label by passing the training and testing label files along with their corresponding number of images:"
   ]
  },
  {
   "cell_type": "code",
   "execution_count": 5,
   "metadata": {
    "collapsed": true
   },
   "outputs": [],
   "source": [
    "train_labels = extract_labels('C:/Users/prateek1.gupta/Downloads/notMNIST-to-MNIST-master/train-labels-idx1-ubyte.gz',60000)\n",
    "test_labels = extract_labels('C:/Users/prateek1.gupta/Downloads/notMNIST-to-MNIST-master/t10k-labels-idx1-ubyte.gz',10000)"
   ]
  },
  {
   "cell_type": "markdown",
   "metadata": {},
   "source": [
    "Data Exploration:\n",
    "Let's now analyze how images in the dataset look like and also see the dimension of the images with the help of the NumPy array attribute .shape:"
   ]
  },
  {
   "cell_type": "code",
   "execution_count": 6,
   "metadata": {},
   "outputs": [
    {
     "name": "stdout",
     "output_type": "stream",
     "text": [
      "Training set (images) shape: (60000, 28, 28)\n",
      "Test set (images) shape: (10000, 28, 28)\n"
     ]
    }
   ],
   "source": [
    "# Shapes of training set\n",
    "print(\"Training set (images) shape: {shape}\".format(shape=train_data.shape))\n",
    "\n",
    "# Shapes of test set\n",
    "print(\"Test set (images) shape: {shape}\".format(shape=test_data.shape))"
   ]
  },
  {
   "cell_type": "markdown",
   "metadata": {},
   "source": [
    "From the above output, we can see that the training data has a shape of 60000 x 28 x 28 since there are 60,000 training samples each of 28 x 28 dimensional matrix. \n",
    "Similarly, the test data has a shape of 10000 x 28 x 28 since there are 10,000 testing samples."
   ]
  },
  {
   "cell_type": "markdown",
   "metadata": {},
   "source": [
    "Note that in this task:\n",
    "We will not be using the training and testing labels. \n",
    "The task at hand will only be dealing with the training and testing images. \n",
    "However, for exploration purposes, which might give us a better intuition about the data, we'll make use the labels."
   ]
  },
  {
   "cell_type": "markdown",
   "metadata": {},
   "source": [
    "Let's create a dictionary that will have class names with their corresponding categorical class labels:"
   ]
  },
  {
   "cell_type": "code",
   "execution_count": 7,
   "metadata": {
    "collapsed": true
   },
   "outputs": [],
   "source": [
    "# Create dictionary of target classes\n",
    "label_dict = {\n",
    " 0: 'A',\n",
    " 1: 'B',\n",
    " 2: 'C',\n",
    " 3: 'D',\n",
    " 4: 'E',\n",
    " 5: 'F',\n",
    " 6: 'G',\n",
    " 7: 'H',\n",
    " 8: 'I',\n",
    " 9: 'J',\n",
    "}"
   ]
  },
  {
   "cell_type": "markdown",
   "metadata": {},
   "source": [
    "Now, let's take a look at couple of the images in our dataset:"
   ]
  },
  {
   "cell_type": "code",
   "execution_count": 8,
   "metadata": {},
   "outputs": [
    {
     "data": {
      "text/plain": [
       "Text(0.5,1,'(Label: D)')"
      ]
     },
     "execution_count": 8,
     "metadata": {},
     "output_type": "execute_result"
    },
    {
     "data": {
      "image/png": "[encoded data removed]",
      "text/plain": [
       "<matplotlib.figure.Figure at 0x18e68853668>"
      ]
     },
     "metadata": {},
     "output_type": "display_data"
    }
   ],
   "source": [
    "plt.figure(figsize=[5,5])\n",
    "\n",
    "# Display the first image in training data\n",
    "plt.subplot(121)\n",
    "curr_img = np.reshape(train_data[0], (28,28))\n",
    "curr_lbl = train_labels[0]\n",
    "plt.imshow(curr_img, cmap='gray')\n",
    "plt.title(\"(Label: \" + str(label_dict[curr_lbl]) + \")\")\n",
    "\n",
    "# Display the first image in testing data\n",
    "plt.subplot(122)\n",
    "curr_img = np.reshape(test_data[0], (28,28))\n",
    "curr_lbl = test_labels[0]\n",
    "plt.imshow(curr_img, cmap='gray')\n",
    "plt.title(\"(Label: \" + str(label_dict[curr_lbl]) + \")\")"
   ]
  },
  {
   "cell_type": "markdown",
   "metadata": {},
   "source": [
    "The output of above two plots are one of the sample images from both training and testing data, and these images are assigned a class label of 5 or F, on the one hand, and 3 or D, on the other hand. \n",
    "Similarly, other alphabets will have different labels, but similar alphabets will have same labels. \n",
    "This means that all the 6,000 class F images will have a class label of 5."
   ]
  },
  {
   "cell_type": "markdown",
   "metadata": {},
   "source": [
    "Data Preprocessing:\n",
    "The images of the dataset are indeed grayscale images with pixel values ranging from 0 to 255 with a dimension of 28 x 28 so before we feed the data into the model it is very important to preprocess it. \n",
    "We'll first convert each 28 x 28 image of train and test set into a matrix of size 28 x 28 x 1, which we can feed into the network."
   ]
  },
  {
   "cell_type": "code",
   "execution_count": 9,
   "metadata": {},
   "outputs": [
    {
     "data": {
      "text/plain": [
       "((60000, 28, 28, 1), (10000, 28, 28, 1))"
      ]
     },
     "execution_count": 9,
     "metadata": {},
     "output_type": "execute_result"
    }
   ],
   "source": [
    "train_data = train_data.reshape(-1, 28,28, 1)\n",
    "test_data = test_data.reshape(-1, 28,28, 1)\n",
    "train_data.shape, test_data.shape"
   ]
  },
  {
   "cell_type": "markdown",
   "metadata": {},
   "source": [
    "Next, we want to make sure to check the data type of the training and testing NumPy arrays, it should be in float32 format, \n",
    "if not we will need to convert it into this format, but since we already have converted it while reading the data you no longer need to do this again. \n",
    "We also have to rescale the pixel values in range 0 - 1 inclusive. So let's do that!\n",
    "\n",
    "Don't forget to verify the training and testing data types:"
   ]
  },
  {
   "cell_type": "code",
   "execution_count": 10,
   "metadata": {},
   "outputs": [
    {
     "data": {
      "text/plain": [
       "(dtype('float32'), dtype('float32'))"
      ]
     },
     "execution_count": 10,
     "metadata": {},
     "output_type": "execute_result"
    }
   ],
   "source": [
    "train_data.dtype, test_data.dtype"
   ]
  },
  {
   "cell_type": "markdown",
   "metadata": {},
   "source": [
    "Next, rescale the training and testing data with the maximum pixel value of the training and testing data:"
   ]
  },
  {
   "cell_type": "code",
   "execution_count": 11,
   "metadata": {},
   "outputs": [
    {
     "data": {
      "text/plain": [
       "(255.0, 255.0)"
      ]
     },
     "execution_count": 11,
     "metadata": {},
     "output_type": "execute_result"
    }
   ],
   "source": [
    "np.max(train_data), np.max(test_data)"
   ]
  },
  {
   "cell_type": "code",
   "execution_count": 12,
   "metadata": {
    "collapsed": true
   },
   "outputs": [],
   "source": [
    "train_data = train_data / np.max(train_data)\n",
    "test_data = test_data / np.max(test_data)"
   ]
  },
  {
   "cell_type": "markdown",
   "metadata": {},
   "source": [
    "Let's verify the maximum value of training and testing data which should be 1.0 after rescaling it!"
   ]
  },
  {
   "cell_type": "code",
   "execution_count": 13,
   "metadata": {},
   "outputs": [
    {
     "data": {
      "text/plain": [
       "(1.0, 1.0)"
      ]
     },
     "execution_count": 13,
     "metadata": {},
     "output_type": "execute_result"
    }
   ],
   "source": [
    "np.max(train_data), np.max(test_data)"
   ]
  },
  {
   "cell_type": "markdown",
   "metadata": {},
   "source": [
    "After all of this, it's important to partition the data. \n",
    "In order for our model to generalize well, we split the training data into two parts: a training and a validation set. \n",
    "We will train our model on 80% of the data and validate it on 20% of the remaining training data.\n",
    "\n",
    "This will also help us in reducing the chances of overfitting, as we will be validating your model on data it would not have seen in training phase.\n",
    "\n",
    "We can use the train_test_split module of scikit-learn to divide the data properly:"
   ]
  },
  {
   "cell_type": "code",
   "execution_count": 14,
   "metadata": {
    "collapsed": true
   },
   "outputs": [],
   "source": [
    "from sklearn.model_selection import train_test_split\n",
    "train_X,valid_X,train_ground,valid_ground = train_test_split(train_data,\n",
    "                                                             train_data, \n",
    "                                                             test_size=0.2, \n",
    "                                                             random_state=13)"
   ]
  },
  {
   "cell_type": "markdown",
   "metadata": {},
   "source": [
    "Note that for this task, we don't need training and testing labels. \n",
    "That's why we will pass the training images twice. \n",
    "our training images will both act as the input as well as the ground truth similar to the labels we have in classification task.\n",
    "\n",
    "Now we are all set to define the network and feed the data into the network. \n",
    "So without any further ado, let's jump to the next step!"
   ]
  },
  {
   "cell_type": "markdown",
   "metadata": {},
   "source": [
    "The Convolutional Autoencoder:\n",
    "The images are of size 28 x 28 x 1 or a 784-dimensional vector. We convert the image matrix to an array, rescale it between 0 and 1, reshape it so that it's of size 28 x 28 x 1, and feed this as an input to the network.\n",
    "\n",
    "Also, we will use a batch size of 128 using a higher batch size of 256 or 512 is also preferable it all depends on the system we train your model. \n",
    "It contributes heavily in determining the learning parameters and affects the prediction accuracy. We will train your network for 50 epochs."
   ]
  },
  {
   "cell_type": "code",
   "execution_count": 15,
   "metadata": {
    "collapsed": true
   },
   "outputs": [],
   "source": [
    "batch_size = 128\n",
    "epochs = 50\n",
    "inChannel = 1\n",
    "x, y = 28, 28\n",
    "input_img = Input(shape = (x, y, inChannel))"
   ]
  },
  {
   "cell_type": "markdown",
   "metadata": {},
   "source": [
    "Encoder\n",
    "\n",
    "The first layer will have 32 filters of size 3 x 3, followed by a downsampling (max-pooling) layer,\n",
    "The second layer will have 64 filters of size 3 x 3, followed by another downsampling layer,\n",
    "The final layer of encoder will have 128 filters of size 3 x 3.\n",
    "\n",
    "\n",
    "Decoder\n",
    "The first layer will have 128 filters of size 3 x 3 followed by a upsampling layer,/li>\n",
    "The second layer will have 64 filters of size 3 x 3 followed by another upsampling layer,\n",
    "The final layer of encoder will have 1 filter of size 3 x 3."
   ]
  },
  {
   "cell_type": "markdown",
   "metadata": {},
   "source": [
    "Note: The number of filters, the filter size, the number of layers, number of epochs we train your model, are all hyperparameters and should be decided based on our own intuition, we are free to try new experiments by tweaking with these hyperparameters and measure the performance of our model.\n",
    "And that is how we will slowly learn the art of deep learning!"
   ]
  },
  {
   "cell_type": "code",
   "execution_count": 16,
   "metadata": {
    "collapsed": true
   },
   "outputs": [],
   "source": [
    "def autoencoder(input_img):\n",
    "    #encoder\n",
    "    #input = 28 x 28 x 1 (wide and thin)\n",
    "    conv1 = Conv2D(32, (3, 3), activation='relu', padding='same')(input_img) #28 x 28 x 32\n",
    "    pool1 = MaxPooling2D(pool_size=(2, 2))(conv1) #14 x 14 x 32\n",
    "    conv2 = Conv2D(64, (3, 3), activation='relu', padding='same')(pool1) #14 x 14 x 64\n",
    "    pool2 = MaxPooling2D(pool_size=(2, 2))(conv2) #7 x 7 x 64\n",
    "    conv3 = Conv2D(128, (3, 3), activation='relu', padding='same')(pool2) #7 x 7 x 128 (small and thick)\n",
    "\n",
    "    #decoder\n",
    "    conv4 = Conv2D(128, (3, 3), activation='relu', padding='same')(conv3) #7 x 7 x 128\n",
    "    up1 = UpSampling2D((2,2))(conv4) # 14 x 14 x 128\n",
    "    conv5 = Conv2D(64, (3, 3), activation='relu', padding='same')(up1) # 14 x 14 x 64\n",
    "    up2 = UpSampling2D((2,2))(conv5) # 28 x 28 x 64\n",
    "    decoded = Conv2D(1, (3, 3), activation='sigmoid', padding='same')(up2) # 28 x 28 x 1\n",
    "    return decoded"
   ]
  },
  {
   "cell_type": "markdown",
   "metadata": {},
   "source": [
    "After the model is created, we have to compile it using the optimizer to be RMSProp."
   ]
  },
  {
   "cell_type": "markdown",
   "metadata": {},
   "source": [
    "Note that we also have to specify the loss type via the argument loss. \n",
    "In this case, that's the mean squared error, since the loss after every batch will be computed between the batch of predicted output and the ground truth using mean squared error pixel by pixel:"
   ]
  },
  {
   "cell_type": "code",
   "execution_count": 17,
   "metadata": {
    "collapsed": true
   },
   "outputs": [],
   "source": [
    "autoencoder = Model(input_img, autoencoder(input_img))\n",
    "autoencoder.compile(loss='mean_squared_error', optimizer = RMSprop())"
   ]
  },
  {
   "cell_type": "markdown",
   "metadata": {},
   "source": [
    "Let's visualize the layers that we created in the above step by using the summary function, this will show number of parameters (weights and biases) in each layer and also the total parameters in your model."
   ]
  },
  {
   "cell_type": "code",
   "execution_count": 18,
   "metadata": {},
   "outputs": [
    {
     "name": "stdout",
     "output_type": "stream",
     "text": [
      "_________________________________________________________________\n",
      "Layer (type)                 Output Shape              Param #   \n",
      "=================================================================\n",
      "input_1 (InputLayer)         (None, 28, 28, 1)         0         \n",
      "_________________________________________________________________\n",
      "conv2d_1 (Conv2D)            (None, 28, 28, 32)        320       \n",
      "_________________________________________________________________\n",
      "max_pooling2d_1 (MaxPooling2 (None, 14, 14, 32)        0         \n",
      "_________________________________________________________________\n",
      "conv2d_2 (Conv2D)            (None, 14, 14, 64)        18496     \n",
      "_________________________________________________________________\n",
      "max_pooling2d_2 (MaxPooling2 (None, 7, 7, 64)          0         \n",
      "_________________________________________________________________\n",
      "conv2d_3 (Conv2D)            (None, 7, 7, 128)         73856     \n",
      "_________________________________________________________________\n",
      "conv2d_4 (Conv2D)            (None, 7, 7, 128)         147584    \n",
      "_________________________________________________________________\n",
      "up_sampling2d_1 (UpSampling2 (None, 14, 14, 128)       0         \n",
      "_________________________________________________________________\n",
      "conv2d_5 (Conv2D)            (None, 14, 14, 64)        73792     \n",
      "_________________________________________________________________\n",
      "up_sampling2d_2 (UpSampling2 (None, 28, 28, 64)        0         \n",
      "_________________________________________________________________\n",
      "conv2d_6 (Conv2D)            (None, 28, 28, 1)         577       \n",
      "=================================================================\n",
      "Total params: 314,625\n",
      "Trainable params: 314,625\n",
      "Non-trainable params: 0\n",
      "_________________________________________________________________\n"
     ]
    }
   ],
   "source": [
    "autoencoder.summary()"
   ]
  },
  {
   "cell_type": "markdown",
   "metadata": {},
   "source": [
    "It's finally time to train the model with Keras' fit() function! \n",
    "The model trains for 50 epochs. The fit() function will return a history object; By storying the result of this function in fashion_train, we can use it later to plot the loss function plot between training and validation which will help us to analyze your model's performance visually."
   ]
  },
  {
   "cell_type": "code",
   "execution_count": 19,
   "metadata": {},
   "outputs": [
    {
     "name": "stdout",
     "output_type": "stream",
     "text": [
      "Train on 48000 samples, validate on 12000 samples\n",
      "Epoch 1/50\n",
      "48000/48000 [==============================] - 786s 16ms/step - loss: 0.0360 - val_loss: 0.0125\n",
      "Epoch 2/50\n",
      "48000/48000 [==============================] - 818s 17ms/step - loss: 0.0109 - val_loss: 0.0086\n",
      "Epoch 3/50\n",
      "48000/48000 [==============================] - 869s 18ms/step - loss: 0.0080 - val_loss: 0.0066\n",
      "Epoch 4/50\n",
      "48000/48000 [==============================] - 867s 18ms/step - loss: 0.0065 - val_loss: 0.0049\n",
      "Epoch 5/50\n",
      "48000/48000 [==============================] - 871s 18ms/step - loss: 0.0056 - val_loss: 0.0054\n",
      "Epoch 6/50\n",
      "48000/48000 [==============================] - 867s 18ms/step - loss: 0.0050 - val_loss: 0.0040\n",
      "Epoch 7/50\n",
      "48000/48000 [==============================] - 859s 18ms/step - loss: 0.0045 - val_loss: 0.0041\n",
      "Epoch 8/50\n",
      "48000/48000 [==============================] - 841s 18ms/step - loss: 0.0042 - val_loss: 0.0035\n",
      "Epoch 9/50\n",
      "48000/48000 [==============================] - 437s 9ms/step - loss: 0.0039 - val_loss: 0.0035\n",
      "Epoch 10/50\n",
      "48000/48000 [==============================] - 450s 9ms/step - loss: 0.0037 - val_loss: 0.0050\n",
      "Epoch 11/50\n",
      "48000/48000 [==============================] - 442s 9ms/step - loss: 0.0036 - val_loss: 0.0035\n",
      "Epoch 12/50\n",
      "48000/48000 [==============================] - 447s 9ms/step - loss: 0.0034 - val_loss: 0.0030\n",
      "Epoch 13/50\n",
      "48000/48000 [==============================] - 437s 9ms/step - loss: 0.0033 - val_loss: 0.0028\n",
      "Epoch 14/50\n",
      "48000/48000 [==============================] - 441s 9ms/step - loss: 0.0032 - val_loss: 0.0031\n",
      "Epoch 15/50\n",
      "48000/48000 [==============================] - 442s 9ms/step - loss: 0.0031 - val_loss: 0.0038\n",
      "Epoch 16/50\n",
      "48000/48000 [==============================] - 433s 9ms/step - loss: 0.0030 - val_loss: 0.0028\n",
      "Epoch 17/50\n",
      "48000/48000 [==============================] - 434s 9ms/step - loss: 0.0030 - val_loss: 0.0036\n",
      "Epoch 18/50\n",
      "48000/48000 [==============================] - 438s 9ms/step - loss: 0.0029 - val_loss: 0.0027\n",
      "Epoch 19/50\n",
      "48000/48000 [==============================] - 444s 9ms/step - loss: 0.0028 - val_loss: 0.0025\n",
      "Epoch 20/50\n",
      "48000/48000 [==============================] - 439s 9ms/step - loss: 0.0028 - val_loss: 0.0026\n",
      "Epoch 21/50\n",
      "48000/48000 [==============================] - 435s 9ms/step - loss: 0.0027 - val_loss: 0.0030\n",
      "Epoch 22/50\n",
      "48000/48000 [==============================] - 435s 9ms/step - loss: 0.0027 - val_loss: 0.0027\n",
      "Epoch 23/50\n",
      "48000/48000 [==============================] - 433s 9ms/step - loss: 0.0026 - val_loss: 0.0021\n",
      "Epoch 24/50\n",
      "48000/48000 [==============================] - 436s 9ms/step - loss: 0.0026 - val_loss: 0.0025\n",
      "Epoch 25/50\n",
      "48000/48000 [==============================] - 443s 9ms/step - loss: 0.0026 - val_loss: 0.0024\n",
      "Epoch 26/50\n",
      "48000/48000 [==============================] - 442s 9ms/step - loss: 0.0025 - val_loss: 0.0023\n",
      "Epoch 27/50\n",
      "48000/48000 [==============================] - 443s 9ms/step - loss: 0.0025 - val_loss: 0.0030\n",
      "Epoch 28/50\n",
      "48000/48000 [==============================] - 443s 9ms/step - loss: 0.0024 - val_loss: 0.0033\n",
      "Epoch 29/50\n",
      "48000/48000 [==============================] - 443s 9ms/step - loss: 0.0024 - val_loss: 0.0023\n",
      "Epoch 30/50\n",
      "48000/48000 [==============================] - 443s 9ms/step - loss: 0.0024 - val_loss: 0.0027\n",
      "Epoch 31/50\n",
      "48000/48000 [==============================] - 444s 9ms/step - loss: 0.0024 - val_loss: 0.0020\n",
      "Epoch 32/50\n",
      "48000/48000 [==============================] - 443s 9ms/step - loss: 0.0023 - val_loss: 0.0021\n",
      "Epoch 33/50\n",
      "48000/48000 [==============================] - 438s 9ms/step - loss: 0.0023 - val_loss: 0.0027\n",
      "Epoch 34/50\n",
      "48000/48000 [==============================] - 444s 9ms/step - loss: 0.0023 - val_loss: 0.0026\n",
      "Epoch 35/50\n",
      "48000/48000 [==============================] - 445s 9ms/step - loss: 0.0023 - val_loss: 0.0025\n",
      "Epoch 36/50\n",
      "48000/48000 [==============================] - 445s 9ms/step - loss: 0.0022 - val_loss: 0.0025\n",
      "Epoch 37/50\n",
      "48000/48000 [==============================] - 444s 9ms/step - loss: 0.0022 - val_loss: 0.0024\n",
      "Epoch 38/50\n",
      "48000/48000 [==============================] - 445s 9ms/step - loss: 0.0022 - val_loss: 0.0027\n",
      "Epoch 39/50\n",
      "48000/48000 [==============================] - 446s 9ms/step - loss: 0.0022 - val_loss: 0.0026\n",
      "Epoch 40/50\n",
      "48000/48000 [==============================] - 445s 9ms/step - loss: 0.0022 - val_loss: 0.0028\n",
      "Epoch 41/50\n",
      "48000/48000 [==============================] - 446s 9ms/step - loss: 0.0022 - val_loss: 0.0025\n",
      "Epoch 42/50\n",
      "48000/48000 [==============================] - 447s 9ms/step - loss: 0.0021 - val_loss: 0.0024\n",
      "Epoch 43/50\n",
      "48000/48000 [==============================] - 450s 9ms/step - loss: 0.0021 - val_loss: 0.0023\n",
      "Epoch 44/50\n",
      "48000/48000 [==============================] - 449s 9ms/step - loss: 0.0021 - val_loss: 0.0019\n",
      "Epoch 45/50\n",
      "48000/48000 [==============================] - 448s 9ms/step - loss: 0.0021 - val_loss: 0.0020\n",
      "Epoch 46/50\n",
      "48000/48000 [==============================] - 448s 9ms/step - loss: 0.0021 - val_loss: 0.0027\n",
      "Epoch 47/50\n",
      "48000/48000 [==============================] - 450s 9ms/step - loss: 0.0021 - val_loss: 0.0022\n",
      "Epoch 48/50\n",
      "48000/48000 [==============================] - 446s 9ms/step - loss: 0.0020 - val_loss: 0.0022\n",
      "Epoch 49/50\n",
      "48000/48000 [==============================] - 447s 9ms/step - loss: 0.0020 - val_loss: 0.0022\n",
      "Epoch 50/50\n",
      "48000/48000 [==============================] - 448s 9ms/step - loss: 0.0020 - val_loss: 0.0022\n"
     ]
    }
   ],
   "source": [
    "autoencoder_train = autoencoder.fit(train_X, train_ground, batch_size=batch_size,epochs=epochs,verbose=1,validation_data=(valid_X, valid_ground))"
   ]
  },
  {
   "cell_type": "markdown",
   "metadata": {},
   "source": [
    "Finally! We trained the model on Not-MNIST for 50 epochs, Now, let's plot the loss plot between training and validation data to visualise the model performance."
   ]
  },
  {
   "cell_type": "code",
   "execution_count": 20,
   "metadata": {},
   "outputs": [
    {
     "data": {
      "image/png": "[encoded data removed]",
      "text/plain": [
       "<matplotlib.figure.Figure at 0x18e7e8994e0>"
      ]
     },
     "metadata": {},
     "output_type": "display_data"
    }
   ],
   "source": [
    "loss = autoencoder_train.history['loss']\n",
    "val_loss = autoencoder_train.history['val_loss']\n",
    "epochs = range(epochs)\n",
    "plt.figure()\n",
    "plt.plot(epochs, loss, 'bo', label='Training loss')\n",
    "plt.plot(epochs, val_loss, 'b', label='Validation loss')\n",
    "plt.title('Training and validation loss')\n",
    "plt.legend()\n",
    "plt.show()"
   ]
  },
  {
   "cell_type": "markdown",
   "metadata": {},
   "source": [
    "Finally, you can see that the validation loss and the training loss both are in sync. \n",
    "It shows that our model is not overfitting: the validation loss is decreasing and not increasing, and there rarely any gap between training and validation loss.\n",
    "\n",
    "Therefore, you can say that our model's generalization capability is good.\n",
    "\n",
    "Finally, it's time to reconstruct the test images using the predict() function of Keras and see how well our model is able reconstruct on the test data."
   ]
  },
  {
   "cell_type": "markdown",
   "metadata": {},
   "source": [
    "We will be predicting the trained model on the complete 10,000 test images and plot few of the reconstructed images to visualize how well our model is able to reconstruct the test images."
   ]
  },
  {
   "cell_type": "code",
   "execution_count": 21,
   "metadata": {
    "collapsed": true
   },
   "outputs": [],
   "source": [
    "pred = autoencoder.predict(test_data)"
   ]
  },
  {
   "cell_type": "code",
   "execution_count": 22,
   "metadata": {},
   "outputs": [
    {
     "data": {
      "text/plain": [
       "(10000, 28, 28, 1)"
      ]
     },
     "execution_count": 22,
     "metadata": {},
     "output_type": "execute_result"
    }
   ],
   "source": [
    "pred.shape"
   ]
  },
  {
   "cell_type": "code",
   "execution_count": 23,
   "metadata": {},
   "outputs": [
    {
     "name": "stdout",
     "output_type": "stream",
     "text": [
      "Test Images\n"
     ]
    },
    {
     "data": {
      "image/png": "[encoded data removed]",
      "text/plain": [
       "<matplotlib.figure.Figure at 0x18e7ea9ac88>"
      ]
     },
     "metadata": {},
     "output_type": "display_data"
    },
    {
     "name": "stdout",
     "output_type": "stream",
     "text": [
      "Reconstruction of Test Images\n"
     ]
    },
    {
     "data": {
      "image/png": "[encoded data removed]",
      "text/plain": [
       "<matplotlib.figure.Figure at 0x18e7e9b7908>"
      ]
     },
     "metadata": {},
     "output_type": "display_data"
    }
   ],
   "source": [
    "plt.figure(figsize=(20, 4))\n",
    "print(\"Test Images\")\n",
    "for i in range(10):\n",
    "    plt.subplot(2, 10, i+1)\n",
    "    plt.imshow(test_data[i, ..., 0], cmap='gray')\n",
    "    curr_lbl = test_labels[i]\n",
    "    plt.title(\"(Label: \" + str(label_dict[curr_lbl]) + \")\")\n",
    "plt.show()    \n",
    "plt.figure(figsize=(20, 4))\n",
    "print(\"Reconstruction of Test Images\")\n",
    "for i in range(10):\n",
    "    plt.subplot(2, 10, i+1)\n",
    "    plt.imshow(pred[i, ..., 0], cmap='gray')  \n",
    "plt.show()"
   ]
  },
  {
   "cell_type": "markdown",
   "metadata": {},
   "source": [
    "From the above figures, you can observe that our model did a fantastic job in reconstructing the test images that we predicted using the model. At least visually speaking, the test and the reconstructed images look almost exactly similar."
   ]
  },
  {
   "cell_type": "markdown",
   "metadata": {},
   "source": [
    "Denoising Autoencoder\n",
    "A denoising autoencoder tries to learn a representation (latent-space or bottleneck) that is robust to noise. You add noise to an image and then feed the noisy image as an input to the enooder part of your network. The encoder part of the autoencoder transforms the image into a different space that tries to preserve the alphabets but removes the noise.\n",
    "\n",
    "But how does it exactly remove the noise?\n",
    "\n",
    "During training, you define a loss function, similar to the root mean squared error that you had defined earlier in convolutional autoencoder. At every iteration of the training, the network will compute a loss between the noisy image outputted by the decoder and the ground truth (denoisy image) and will also try to minimize that loss or difference between the reconstructed image and the original noise-free image. In other words, the network will learn a 7 x 7 x 128 space that will be noise free encodings of the data that you will train your network on!"
   ]
  },
  {
   "cell_type": "markdown",
   "metadata": {},
   "source": [
    "Implementation of Denoising Autoencoder\n",
    "Now, to see how this works in Python, you will be using the same NotMNIST dataset as you did in the first part of this tutorial. That means you need not do any data preprocessing since it has already been done before! However, one important preprocessing step in this part of the tutorial will be adding noise to the training, validation and testing images. So, let's quickly do that first!\n",
    "\n",
    "\n",
    "Adding Noise to Images\n",
    "Let's first define a noise factor which is a hyperparameter. The noise factor is multiplied with a random matrix that has a mean of 0.0 and standard deviation of 1.0. This matrix will draw samples from normal (Gaussian) distribution. The shape of the random normal array will be similar to the shape of the data you will be adding the noise.\n",
    "\n",
    "For simplicity, let's understand it with an example: The variable train_X has a shape of 48000 x 28 x 28 x 1. Hence, the random normal array will also have a shape similar to train_X only then you will be able to add two arrays since then they will have same dimensions."
   ]
  },
  {
   "cell_type": "code",
   "execution_count": 24,
   "metadata": {
    "collapsed": true
   },
   "outputs": [],
   "source": [
    "noise_factor = 0.5\n",
    "x_train_noisy = train_X + noise_factor * np.random.normal(loc=0.0, scale=1.0, size=train_X.shape)\n",
    "x_valid_noisy = valid_X + noise_factor * np.random.normal(loc=0.0, scale=1.0, size=valid_X.shape)\n",
    "x_test_noisy = test_data + noise_factor * np.random.normal(loc=0.0, scale=1.0, size=test_data.shape)\n",
    "x_train_noisy = np.clip(x_train_noisy, 0., 1.)\n",
    "x_valid_noisy = np.clip(x_valid_noisy, 0., 1.)\n",
    "x_test_noisy = np.clip(x_test_noisy, 0., 1.)"
   ]
  },
  {
   "cell_type": "markdown",
   "metadata": {},
   "source": [
    "np.clip() will threshold all the negative values to zero and all the values greater than one to one. Since, you want your pixel values to be between zero and one. And there are chances that after introducing noise into the data the pixel values range can change a bit, so to be on the safer side it's a good practice to clip the pixel values."
   ]
  },
  {
   "cell_type": "code",
   "execution_count": 25,
   "metadata": {},
   "outputs": [
    {
     "data": {
      "text/plain": [
       "<matplotlib.image.AxesImage at 0x18e7e8930f0>"
      ]
     },
     "execution_count": 25,
     "metadata": {},
     "output_type": "execute_result"
    },
    {
     "data": {
      "image/png": "[encoded data removed]",
      "text/plain": [
       "<matplotlib.figure.Figure at 0x18e7ea5aa20>"
      ]
     },
     "metadata": {},
     "output_type": "display_data"
    }
   ],
   "source": [
    "#Visualizing the noisy images\n",
    "plt.figure(figsize=[5,5])\n",
    "\n",
    "# Display the first image in training data\n",
    "plt.subplot(121)\n",
    "curr_img = np.reshape(x_train_noisy[1], (28,28))\n",
    "plt.imshow(curr_img, cmap='gray')\n",
    "\n",
    "# Display the first image in testing data\n",
    "plt.subplot(122)\n",
    "curr_img = np.reshape(x_test_noisy[1], (28,28))\n",
    "plt.imshow(curr_img, cmap='gray')"
   ]
  },
  {
   "cell_type": "markdown",
   "metadata": {},
   "source": [
    "Now that you have the noisy data, you can feed it into the network and see how the noise is \"magically\" removed from the images!\n",
    "\n",
    "\n",
    "Denoising Autoencoder Network\n",
    "As discussed before the autoencoder is divided into two parts: the encoder and the decoder. The architecture that you're going to construct will look like the following:\n",
    "\n",
    "Encoder\n",
    "\n",
    "The first layer will have 32-3 x 3 filters followed by a downsampling (max-pooling) layer,\n",
    "The second layer will have 64-3 x 3 filters followed by another downsampling layer,\n",
    "The final layer of encoder will have 128-3 x 3 filters.\n",
    "\n",
    "\n",
    "Decoder\n",
    "The first layer will have 128-3 x 3 filters followed by a upsampling layer,\n",
    "The second layer will have 64-3 x 3 filters followed by another upsampling layer,\n",
    "The final layer of encoder will have 1-3 x 3 filters."
   ]
  },
  {
   "cell_type": "code",
   "execution_count": 26,
   "metadata": {
    "collapsed": true
   },
   "outputs": [],
   "source": [
    "batch_size = 128\n",
    "epochs = 20\n",
    "inChannel = 1\n",
    "x, y = 28, 28\n",
    "input_img = Input(shape = (x, y, inChannel))"
   ]
  },
  {
   "cell_type": "code",
   "execution_count": 27,
   "metadata": {
    "collapsed": true
   },
   "outputs": [],
   "source": [
    "def autoencoder(input_img):\n",
    "    #encoder\n",
    "    conv1 = Conv2D(32, (3, 3), activation='relu', padding='same')(input_img)\n",
    "    pool1 = MaxPooling2D(pool_size=(2, 2))(conv1)\n",
    "    conv2 = Conv2D(64, (3, 3), activation='relu', padding='same')(pool1)\n",
    "    pool2 = MaxPooling2D(pool_size=(2, 2))(conv2)\n",
    "    conv3 = Conv2D(128, (3, 3), activation='relu', padding='same')(pool2)\n",
    "\n",
    "    #decoder\n",
    "    conv4 = Conv2D(128, (3, 3), activation='relu', padding='same')(conv3)\n",
    "    up1 = UpSampling2D((2,2))(conv4)\n",
    "    conv5 = Conv2D(64, (3, 3), activation='relu', padding='same')(up1)\n",
    "    up2 = UpSampling2D((2,2))(conv5)\n",
    "    decoded = Conv2D(1, (3, 3), activation='sigmoid', padding='same')(up2)\n",
    "    return decoded"
   ]
  },
  {
   "cell_type": "code",
   "execution_count": 28,
   "metadata": {
    "collapsed": true
   },
   "outputs": [],
   "source": [
    "autoencoder = Model(input_img, autoencoder(input_img))\n",
    "autoencoder.compile(loss='mean_squared_error', optimizer = RMSprop())"
   ]
  },
  {
   "cell_type": "markdown",
   "metadata": {},
   "source": [
    "Training\n",
    "If you remember while training the convolutional autoencoder, you had fed the training images twice since the input and the ground truth were both same. However, in denoising autoencoder, you feed the noisy images as an input while your ground truth remains the denoisy images on which you had applied the noise. Only then the network will be able to compute a loss between the noisy and the true denoisy images."
   ]
  },
  {
   "cell_type": "code",
   "execution_count": 29,
   "metadata": {},
   "outputs": [
    {
     "name": "stdout",
     "output_type": "stream",
     "text": [
      "Train on 48000 samples, validate on 12000 samples\n",
      "Epoch 1/20\n",
      "48000/48000 [==============================] - 436s 9ms/step - loss: 0.0583 - val_loss: 0.0324\n",
      "Epoch 2/20\n",
      "48000/48000 [==============================] - 605s 13ms/step - loss: 0.0284 - val_loss: 0.0251\n",
      "Epoch 3/20\n",
      "48000/48000 [==============================] - 873s 18ms/step - loss: 0.0239 - val_loss: 0.0214\n",
      "Epoch 4/20\n",
      "48000/48000 [==============================] - 874s 18ms/step - loss: 0.0216 - val_loss: 0.0206\n",
      "Epoch 5/20\n",
      "48000/48000 [==============================] - 871s 18ms/step - loss: 0.0201 - val_loss: 0.0184\n",
      "Epoch 6/20\n",
      "48000/48000 [==============================] - 875s 18ms/step - loss: 0.0191 - val_loss: 0.0178\n",
      "Epoch 7/20\n",
      "48000/48000 [==============================] - 705s 15ms/step - loss: 0.0183 - val_loss: 0.0180\n",
      "Epoch 8/20\n",
      "48000/48000 [==============================] - 433s 9ms/step - loss: 0.0178 - val_loss: 0.0177\n",
      "Epoch 9/20\n",
      "48000/48000 [==============================] - 433s 9ms/step - loss: 0.0174 - val_loss: 0.0171\n",
      "Epoch 10/20\n",
      "48000/48000 [==============================] - 434s 9ms/step - loss: 0.0171 - val_loss: 0.0174\n",
      "Epoch 11/20\n",
      "48000/48000 [==============================] - 441s 9ms/step - loss: 0.0168 - val_loss: 0.0160\n",
      "Epoch 12/20\n",
      "48000/48000 [==============================] - 440s 9ms/step - loss: 0.0165 - val_loss: 0.0173\n",
      "Epoch 13/20\n",
      "48000/48000 [==============================] - 440s 9ms/step - loss: 0.0163 - val_loss: 0.0166\n",
      "Epoch 14/20\n",
      "48000/48000 [==============================] - 441s 9ms/step - loss: 0.0161 - val_loss: 0.0176\n",
      "Epoch 15/20\n",
      "48000/48000 [==============================] - 439s 9ms/step - loss: 0.0159 - val_loss: 0.0158\n",
      "Epoch 16/20\n",
      "48000/48000 [==============================] - 437s 9ms/step - loss: 0.0158 - val_loss: 0.0173\n",
      "Epoch 17/20\n",
      "48000/48000 [==============================] - 440s 9ms/step - loss: 0.0157 - val_loss: 0.0169\n",
      "Epoch 18/20\n",
      "48000/48000 [==============================] - 441s 9ms/step - loss: 0.0155 - val_loss: 0.0173\n",
      "Epoch 19/20\n",
      "48000/48000 [==============================] - 440s 9ms/step - loss: 0.0154 - val_loss: 0.0155\n",
      "Epoch 20/20\n",
      "48000/48000 [==============================] - 439s 9ms/step - loss: 0.0153 - val_loss: 0.0154\n"
     ]
    }
   ],
   "source": [
    "autoencoder_train = autoencoder.fit(x_train_noisy, train_X, batch_size=batch_size,epochs=epochs,verbose=1,validation_data=(x_valid_noisy, valid_X))"
   ]
  },
  {
   "cell_type": "code",
   "execution_count": 30,
   "metadata": {},
   "outputs": [
    {
     "data": {
      "image/png": "[encoded data removed]",
      "text/plain": [
       "<matplotlib.figure.Figure at 0x18e1858f828>"
      ]
     },
     "metadata": {},
     "output_type": "display_data"
    }
   ],
   "source": [
    "loss = autoencoder_train.history['loss']\n",
    "val_loss = autoencoder_train.history['val_loss']\n",
    "epochs = range(epochs)\n",
    "plt.figure()\n",
    "plt.plot(epochs, loss, 'bo', label='Training loss')\n",
    "plt.plot(epochs, val_loss, 'b', label='Validation loss')\n",
    "plt.title('Training and validation loss')\n",
    "plt.legend()\n",
    "plt.show()"
   ]
  },
  {
   "cell_type": "markdown",
   "metadata": {},
   "source": [
    "From the above plot, you can derive some intuition that the model is overfitting at some epochs while being in sync for most of the time. You can definitely try to improve the performance of the model by introducing some complexity into it so that the loss can reduce more, try training it for more epochs and then decide."
   ]
  },
  {
   "cell_type": "code",
   "execution_count": 31,
   "metadata": {
    "collapsed": true
   },
   "outputs": [],
   "source": [
    "#Predicting on Test dataset\n",
    "pred = autoencoder.predict(x_test_noisy)"
   ]
  },
  {
   "cell_type": "code",
   "execution_count": 32,
   "metadata": {},
   "outputs": [
    {
     "name": "stdout",
     "output_type": "stream",
     "text": [
      "Test Images\n"
     ]
    },
    {
     "data": {
      "image/png": "[encoded data removed]",
      "text/plain": [
       "<matplotlib.figure.Figure at 0x18e188468d0>"
      ]
     },
     "metadata": {},
     "output_type": "display_data"
    },
    {
     "name": "stdout",
     "output_type": "stream",
     "text": [
      "Test Images with Noise\n"
     ]
    },
    {
     "data": {
      "image/png": "[encoded data removed]",
      "text/plain": [
       "<matplotlib.figure.Figure at 0x18e1873f2b0>"
      ]
     },
     "metadata": {},
     "output_type": "display_data"
    },
    {
     "name": "stdout",
     "output_type": "stream",
     "text": [
      "Reconstruction of Noisy Test Images\n"
     ]
    },
    {
     "data": {
      "image/png": "[encoded data removed]",
      "text/plain": [
       "<matplotlib.figure.Figure at 0x18e2143a128>"
      ]
     },
     "metadata": {},
     "output_type": "display_data"
    }
   ],
   "source": [
    "plt.figure(figsize=(20, 4))\n",
    "print(\"Test Images\")\n",
    "for i in range(10,20,1):\n",
    "    plt.subplot(2, 10, i+1)\n",
    "    plt.imshow(test_data[i, ..., 0], cmap='gray')\n",
    "    curr_lbl = test_labels[i]\n",
    "    plt.title(\"(Label: \" + str(label_dict[curr_lbl]) + \")\")\n",
    "plt.show()    \n",
    "plt.figure(figsize=(20, 4))\n",
    "print(\"Test Images with Noise\")\n",
    "for i in range(10,20,1):\n",
    "    plt.subplot(2, 10, i+1)\n",
    "    plt.imshow(x_test_noisy[i, ..., 0], cmap='gray')\n",
    "plt.show()    \n",
    "\n",
    "plt.figure(figsize=(20, 4))\n",
    "print(\"Reconstruction of Noisy Test Images\")\n",
    "for i in range(10,20,1):\n",
    "    plt.subplot(2, 10, i+1)\n",
    "    plt.imshow(pred[i, ..., 0], cmap='gray')  \n",
    "plt.show()"
   ]
  },
  {
   "cell_type": "markdown",
   "metadata": {},
   "source": [
    "It looks like that, within just 20 epochs, a fairly simple network architecture did a pretty good job in removing the noise from the test images, isn't it?"
   ]
  }
 ],
 "metadata": {
  "kernelspec": {
   "display_name": "Python 3",
   "language": "python",
   "name": "python3"
  },
  "language_info": {
   "codemirror_mode": {
    "name": "ipython",
    "version": 3
   },
   "file_extension": ".py",
   "mimetype": "text/x-python",
   "name": "python",
   "nbconvert_exporter": "python",
   "pygments_lexer": "ipython3",
   "version": "3.6.3"
  }
 },
 "nbformat": 4,
 "nbformat_minor": 2
}
