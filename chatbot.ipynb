{
 "cells": [
  {
   "cell_type": "code",
   "execution_count": 1,
   "metadata": {
    "collapsed": true
   },
   "outputs": [],
   "source": [
    "import chatterbot"
   ]
  },
  {
   "cell_type": "code",
   "execution_count": 2,
   "metadata": {
    "collapsed": true
   },
   "outputs": [],
   "source": [
    "from chatterbot.trainers import ListTrainer "
   ]
  },
  {
   "cell_type": "code",
   "execution_count": 3,
   "metadata": {
    "collapsed": true
   },
   "outputs": [],
   "source": [
    "from chatterbot import ChatBot"
   ]
  },
  {
   "cell_type": "code",
   "execution_count": 4,
   "metadata": {
    "collapsed": true
   },
   "outputs": [],
   "source": [
    "bot=ChatBot(\"Test\")"
   ]
  },
  {
   "cell_type": "code",
   "execution_count": 5,
   "metadata": {
    "collapsed": true
   },
   "outputs": [],
   "source": [
    "conv = open('C:/Users/prateek1.gupta/Desktop/chats.txt','r').readlines()"
   ]
  },
  {
   "cell_type": "code",
   "execution_count": 6,
   "metadata": {
    "collapsed": true
   },
   "outputs": [],
   "source": [
    "bot.set_trainer(ListTrainer)"
   ]
  },
  {
   "cell_type": "code",
   "execution_count": 7,
   "metadata": {},
   "outputs": [
    {
     "name": "stdout",
     "output_type": "stream",
     "text": [
      "List Trainer: [####################] 100%\n"
     ]
    }
   ],
   "source": [
    "bot.train(conv)"
   ]
  },
  {
   "cell_type": "code",
   "execution_count": null,
   "metadata": {},
   "outputs": [
    {
     "name": "stdout",
     "output_type": "stream",
     "text": [
      "You:hi\n",
      "Bot: How are you doing?\n",
      "You:i am good\n",
      "Bot: Awsome!\n",
      "You:your what?\n",
      "Bot: I don't hate, exactly. I'm not really capable of it.\n",
      "You:are you crazy?\n",
      "Bot: Not right now, no.\n"
     ]
    }
   ],
   "source": [
    "while True:\n",
    "    req=input(\"You:\")\n",
    "    res=bot.get_response(req)\n",
    "    print(\"Bot:\",res)"
   ]
  },
  {
   "cell_type": "code",
   "execution_count": 1,
   "metadata": {},
   "outputs": [
    {
     "name": "stdout",
     "output_type": "stream",
     "text": [
      "6 Sunday\n",
      "0 Monday\n",
      "1 Tuesday\n",
      "2 Wednesday\n",
      "3 Thursday\n",
      "4 Friday\n",
      "5 Saturday\n"
     ]
    }
   ],
   "source": [
    "import pandas as pd\n",
    "# Create the range of dates here\n",
    "seven_days = pd.date_range(start='2018-7-1', periods=7)\n",
    "# Iterate over the dates and print the number and name of the weekday\n",
    "for day in seven_days:\n",
    "    print(day.dayofweek, day.weekday_name)"
   ]
  },
  {
   "cell_type": "code",
   "execution_count": 5,
   "metadata": {},
   "outputs": [
    {
     "data": {
      "text/html": [
       "<div>\n",
       "<style>\n",
       "    .dataframe thead tr:only-child th {\n",
       "        text-align: right;\n",
       "    }\n",
       "\n",
       "    .dataframe thead th {\n",
       "        text-align: left;\n",
       "    }\n",
       "\n",
       "    .dataframe tbody tr th {\n",
       "        vertical-align: top;\n",
       "    }\n",
       "</style>\n",
       "<table border=\"1\" class=\"dataframe\">\n",
       "  <thead>\n",
       "    <tr style=\"text-align: right;\">\n",
       "      <th></th>\n",
       "      <th>date</th>\n",
       "      <th>ozone</th>\n",
       "      <th>pm25</th>\n",
       "      <th>co</th>\n",
       "    </tr>\n",
       "  </thead>\n",
       "  <tbody>\n",
       "    <tr>\n",
       "      <th>0</th>\n",
       "      <td>1999-07-01</td>\n",
       "      <td>0.012024</td>\n",
       "      <td>20.000000</td>\n",
       "      <td>1.300686</td>\n",
       "    </tr>\n",
       "    <tr>\n",
       "      <th>1</th>\n",
       "      <td>1999-07-02</td>\n",
       "      <td>0.027699</td>\n",
       "      <td>23.900000</td>\n",
       "      <td>0.958194</td>\n",
       "    </tr>\n",
       "    <tr>\n",
       "      <th>2</th>\n",
       "      <td>1999-07-03</td>\n",
       "      <td>0.043969</td>\n",
       "      <td>36.700000</td>\n",
       "      <td>1.194444</td>\n",
       "    </tr>\n",
       "    <tr>\n",
       "      <th>3</th>\n",
       "      <td>1999-07-04</td>\n",
       "      <td>0.035162</td>\n",
       "      <td>39.000000</td>\n",
       "      <td>1.081548</td>\n",
       "    </tr>\n",
       "    <tr>\n",
       "      <th>4</th>\n",
       "      <td>1999-07-05</td>\n",
       "      <td>0.038359</td>\n",
       "      <td>28.171429</td>\n",
       "      <td>0.939583</td>\n",
       "    </tr>\n",
       "  </tbody>\n",
       "</table>\n",
       "</div>"
      ],
      "text/plain": [
       "         date     ozone       pm25        co\n",
       "0  1999-07-01  0.012024  20.000000  1.300686\n",
       "1  1999-07-02  0.027699  23.900000  0.958194\n",
       "2  1999-07-03  0.043969  36.700000  1.194444\n",
       "3  1999-07-04  0.035162  39.000000  1.081548\n",
       "4  1999-07-05  0.038359  28.171429  0.939583"
      ]
     },
     "execution_count": 5,
     "metadata": {},
     "output_type": "execute_result"
    }
   ],
   "source": [
    "air_quality_df = pd.read_excel('C:/Users/prateek1.gupta/Desktop/quality.xlsx')\n",
    "air_quality_df.head()"
   ]
  },
  {
   "cell_type": "code",
   "execution_count": 6,
   "metadata": {},
   "outputs": [
    {
     "name": "stdout",
     "output_type": "stream",
     "text": [
      "<class 'pandas.core.frame.DataFrame'>\n",
      "RangeIndex: 10 entries, 0 to 9\n",
      "Data columns (total 4 columns):\n",
      "date     10 non-null object\n",
      "ozone    10 non-null float64\n",
      "pm25     10 non-null float64\n",
      "co       10 non-null float64\n",
      "dtypes: float64(3), object(1)\n",
      "memory usage: 400.0+ bytes\n"
     ]
    }
   ],
   "source": [
    "air_quality_df.info()"
   ]
  },
  {
   "cell_type": "code",
   "execution_count": 7,
   "metadata": {
    "collapsed": true
   },
   "outputs": [],
   "source": [
    "air_quality_df.date = pd.to_datetime(air_quality_df.date)"
   ]
  },
  {
   "cell_type": "code",
   "execution_count": 8,
   "metadata": {},
   "outputs": [
    {
     "name": "stdout",
     "output_type": "stream",
     "text": [
      "<class 'pandas.core.frame.DataFrame'>\n",
      "RangeIndex: 10 entries, 0 to 9\n",
      "Data columns (total 4 columns):\n",
      "date     10 non-null datetime64[ns]\n",
      "ozone    10 non-null float64\n",
      "pm25     10 non-null float64\n",
      "co       10 non-null float64\n",
      "dtypes: datetime64[ns](1), float64(3)\n",
      "memory usage: 400.0 bytes\n"
     ]
    }
   ],
   "source": [
    "air_quality_df.info()"
   ]
  },
  {
   "cell_type": "code",
   "execution_count": 9,
   "metadata": {},
   "outputs": [
    {
     "data": {
      "text/html": [
       "<div>\n",
       "<style>\n",
       "    .dataframe thead tr:only-child th {\n",
       "        text-align: right;\n",
       "    }\n",
       "\n",
       "    .dataframe thead th {\n",
       "        text-align: left;\n",
       "    }\n",
       "\n",
       "    .dataframe tbody tr th {\n",
       "        vertical-align: top;\n",
       "    }\n",
       "</style>\n",
       "<table border=\"1\" class=\"dataframe\">\n",
       "  <thead>\n",
       "    <tr style=\"text-align: right;\">\n",
       "      <th></th>\n",
       "      <th>ozone</th>\n",
       "      <th>pm25</th>\n",
       "      <th>co</th>\n",
       "    </tr>\n",
       "    <tr>\n",
       "      <th>date</th>\n",
       "      <th></th>\n",
       "      <th></th>\n",
       "      <th></th>\n",
       "    </tr>\n",
       "  </thead>\n",
       "  <tbody>\n",
       "    <tr>\n",
       "      <th>1999-07-01</th>\n",
       "      <td>0.012024</td>\n",
       "      <td>20.000000</td>\n",
       "      <td>1.300686</td>\n",
       "    </tr>\n",
       "    <tr>\n",
       "      <th>1999-07-02</th>\n",
       "      <td>0.027699</td>\n",
       "      <td>23.900000</td>\n",
       "      <td>0.958194</td>\n",
       "    </tr>\n",
       "    <tr>\n",
       "      <th>1999-07-03</th>\n",
       "      <td>0.043969</td>\n",
       "      <td>36.700000</td>\n",
       "      <td>1.194444</td>\n",
       "    </tr>\n",
       "    <tr>\n",
       "      <th>1999-07-04</th>\n",
       "      <td>0.035162</td>\n",
       "      <td>39.000000</td>\n",
       "      <td>1.081548</td>\n",
       "    </tr>\n",
       "    <tr>\n",
       "      <th>1999-07-05</th>\n",
       "      <td>0.038359</td>\n",
       "      <td>28.171429</td>\n",
       "      <td>0.939583</td>\n",
       "    </tr>\n",
       "  </tbody>\n",
       "</table>\n",
       "</div>"
      ],
      "text/plain": [
       "               ozone       pm25        co\n",
       "date                                     \n",
       "1999-07-01  0.012024  20.000000  1.300686\n",
       "1999-07-02  0.027699  23.900000  0.958194\n",
       "1999-07-03  0.043969  36.700000  1.194444\n",
       "1999-07-04  0.035162  39.000000  1.081548\n",
       "1999-07-05  0.038359  28.171429  0.939583"
      ]
     },
     "execution_count": 9,
     "metadata": {},
     "output_type": "execute_result"
    }
   ],
   "source": [
    "air_quality_df.set_index('date', inplace=True)\n",
    "air_quality_df.head()"
   ]
  },
  {
   "cell_type": "code",
   "execution_count": 11,
   "metadata": {},
   "outputs": [
    {
     "data": {
      "image/png": "[encoded data removed]",
      "text/plain": [
       "<matplotlib.figure.Figure at 0x2700b830080>"
      ]
     },
     "metadata": {},
     "output_type": "display_data"
    },
    {
     "data": {
      "image/png": "[encoded data removed]",
      "text/plain": [
       "<matplotlib.figure.Figure at 0x2700dd9c470>"
      ]
     },
     "metadata": {},
     "output_type": "display_data"
    }
   ],
   "source": [
    "import matplotlib.pyplot as plt\n",
    "air_quality_df.plot(subplots=True)\n",
    "plt.show()"
   ]
  },
  {
   "cell_type": "code",
   "execution_count": 18,
   "metadata": {
    "scrolled": true
   },
   "outputs": [
    {
     "data": {
      "text/html": [
       "<div>\n",
       "<style>\n",
       "    .dataframe thead tr:only-child th {\n",
       "        text-align: right;\n",
       "    }\n",
       "\n",
       "    .dataframe thead th {\n",
       "        text-align: left;\n",
       "    }\n",
       "\n",
       "    .dataframe tbody tr th {\n",
       "        vertical-align: top;\n",
       "    }\n",
       "</style>\n",
       "<table border=\"1\" class=\"dataframe\">\n",
       "  <thead>\n",
       "    <tr style=\"text-align: right;\">\n",
       "      <th></th>\n",
       "      <th>Date</th>\n",
       "      <th>Open</th>\n",
       "      <th>High</th>\n",
       "      <th>Low</th>\n",
       "      <th>Close</th>\n",
       "      <th>Adj Close</th>\n",
       "      <th>Volume</th>\n",
       "    </tr>\n",
       "  </thead>\n",
       "  <tbody>\n",
       "    <tr>\n",
       "      <th>0</th>\n",
       "      <td>12-06-2018</td>\n",
       "      <td>25.170000</td>\n",
       "      <td>25.170000</td>\n",
       "      <td>24.799999</td>\n",
       "      <td>25.070000</td>\n",
       "      <td>25.070000</td>\n",
       "      <td>78300</td>\n",
       "    </tr>\n",
       "    <tr>\n",
       "      <th>1</th>\n",
       "      <td>13-06-2017</td>\n",
       "      <td>25.030001</td>\n",
       "      <td>25.049999</td>\n",
       "      <td>24.680000</td>\n",
       "      <td>24.690001</td>\n",
       "      <td>24.690001</td>\n",
       "      <td>67000</td>\n",
       "    </tr>\n",
       "    <tr>\n",
       "      <th>2</th>\n",
       "      <td>14-06-2016</td>\n",
       "      <td>24.790001</td>\n",
       "      <td>24.790001</td>\n",
       "      <td>24.400000</td>\n",
       "      <td>24.559999</td>\n",
       "      <td>24.559999</td>\n",
       "      <td>66200</td>\n",
       "    </tr>\n",
       "    <tr>\n",
       "      <th>3</th>\n",
       "      <td>15-06-2015</td>\n",
       "      <td>24.530001</td>\n",
       "      <td>24.700001</td>\n",
       "      <td>24.480000</td>\n",
       "      <td>24.639999</td>\n",
       "      <td>24.639999</td>\n",
       "      <td>81800</td>\n",
       "    </tr>\n",
       "    <tr>\n",
       "      <th>4</th>\n",
       "      <td>18-06-2014</td>\n",
       "      <td>24.639999</td>\n",
       "      <td>24.770000</td>\n",
       "      <td>24.549999</td>\n",
       "      <td>24.600000</td>\n",
       "      <td>24.600000</td>\n",
       "      <td>39200</td>\n",
       "    </tr>\n",
       "  </tbody>\n",
       "</table>\n",
       "</div>"
      ],
      "text/plain": [
       "         Date       Open       High        Low      Close  Adj Close  Volume\n",
       "0  12-06-2018  25.170000  25.170000  24.799999  25.070000  25.070000   78300\n",
       "1  13-06-2017  25.030001  25.049999  24.680000  24.690001  24.690001   67000\n",
       "2  14-06-2016  24.790001  24.790001  24.400000  24.559999  24.559999   66200\n",
       "3  15-06-2015  24.530001  24.700001  24.480000  24.639999  24.639999   81800\n",
       "4  18-06-2014  24.639999  24.770000  24.549999  24.600000  24.600000   39200"
      ]
     },
     "execution_count": 18,
     "metadata": {},
     "output_type": "execute_result"
    }
   ],
   "source": [
    "yahoo = pd.read_csv(\"C:/Users/prateek1.gupta/Downloads/CSV.csv\")\n",
    "yahoo.head()"
   ]
  },
  {
   "cell_type": "code",
   "execution_count": 13,
   "metadata": {},
   "outputs": [
    {
     "name": "stdout",
     "output_type": "stream",
     "text": [
      "<class 'pandas.core.frame.DataFrame'>\n",
      "RangeIndex: 21 entries, 0 to 20\n",
      "Data columns (total 7 columns):\n",
      "Date         21 non-null object\n",
      "Open         21 non-null float64\n",
      "High         21 non-null float64\n",
      "Low          21 non-null float64\n",
      "Close        21 non-null float64\n",
      "Adj Close    21 non-null float64\n",
      "Volume       21 non-null int64\n",
      "dtypes: float64(5), int64(1), object(1)\n",
      "memory usage: 1.2+ KB\n"
     ]
    }
   ],
   "source": [
    "yahoo.info()"
   ]
  },
  {
   "cell_type": "code",
   "execution_count": 19,
   "metadata": {},
   "outputs": [],
   "source": [
    "yahoo.Date = pd.to_datetime(yahoo.Date)"
   ]
  },
  {
   "cell_type": "code",
   "execution_count": 20,
   "metadata": {},
   "outputs": [
    {
     "data": {
      "text/html": [
       "<div>\n",
       "<style>\n",
       "    .dataframe thead tr:only-child th {\n",
       "        text-align: right;\n",
       "    }\n",
       "\n",
       "    .dataframe thead th {\n",
       "        text-align: left;\n",
       "    }\n",
       "\n",
       "    .dataframe tbody tr th {\n",
       "        vertical-align: top;\n",
       "    }\n",
       "</style>\n",
       "<table border=\"1\" class=\"dataframe\">\n",
       "  <thead>\n",
       "    <tr style=\"text-align: right;\">\n",
       "      <th></th>\n",
       "      <th>Open</th>\n",
       "      <th>High</th>\n",
       "      <th>Low</th>\n",
       "      <th>Close</th>\n",
       "      <th>Adj Close</th>\n",
       "      <th>Volume</th>\n",
       "    </tr>\n",
       "    <tr>\n",
       "      <th>Date</th>\n",
       "      <th></th>\n",
       "      <th></th>\n",
       "      <th></th>\n",
       "      <th></th>\n",
       "      <th></th>\n",
       "      <th></th>\n",
       "    </tr>\n",
       "  </thead>\n",
       "  <tbody>\n",
       "    <tr>\n",
       "      <th>2018-12-06</th>\n",
       "      <td>25.170000</td>\n",
       "      <td>25.170000</td>\n",
       "      <td>24.799999</td>\n",
       "      <td>25.070000</td>\n",
       "      <td>25.070000</td>\n",
       "      <td>78300</td>\n",
       "    </tr>\n",
       "    <tr>\n",
       "      <th>2017-06-13</th>\n",
       "      <td>25.030001</td>\n",
       "      <td>25.049999</td>\n",
       "      <td>24.680000</td>\n",
       "      <td>24.690001</td>\n",
       "      <td>24.690001</td>\n",
       "      <td>67000</td>\n",
       "    </tr>\n",
       "    <tr>\n",
       "      <th>2016-06-14</th>\n",
       "      <td>24.790001</td>\n",
       "      <td>24.790001</td>\n",
       "      <td>24.400000</td>\n",
       "      <td>24.559999</td>\n",
       "      <td>24.559999</td>\n",
       "      <td>66200</td>\n",
       "    </tr>\n",
       "    <tr>\n",
       "      <th>2015-06-15</th>\n",
       "      <td>24.530001</td>\n",
       "      <td>24.700001</td>\n",
       "      <td>24.480000</td>\n",
       "      <td>24.639999</td>\n",
       "      <td>24.639999</td>\n",
       "      <td>81800</td>\n",
       "    </tr>\n",
       "    <tr>\n",
       "      <th>2014-06-18</th>\n",
       "      <td>24.639999</td>\n",
       "      <td>24.770000</td>\n",
       "      <td>24.549999</td>\n",
       "      <td>24.600000</td>\n",
       "      <td>24.600000</td>\n",
       "      <td>39200</td>\n",
       "    </tr>\n",
       "  </tbody>\n",
       "</table>\n",
       "</div>"
      ],
      "text/plain": [
       "                 Open       High        Low      Close  Adj Close  Volume\n",
       "Date                                                                     \n",
       "2018-12-06  25.170000  25.170000  24.799999  25.070000  25.070000   78300\n",
       "2017-06-13  25.030001  25.049999  24.680000  24.690001  24.690001   67000\n",
       "2016-06-14  24.790001  24.790001  24.400000  24.559999  24.559999   66200\n",
       "2015-06-15  24.530001  24.700001  24.480000  24.639999  24.639999   81800\n",
       "2014-06-18  24.639999  24.770000  24.549999  24.600000  24.600000   39200"
      ]
     },
     "execution_count": 20,
     "metadata": {},
     "output_type": "execute_result"
    }
   ],
   "source": [
    "yahoo.set_index('Date', inplace=True)\n",
    "yahoo.head()"
   ]
  },
  {
   "cell_type": "code",
   "execution_count": 21,
   "metadata": {
    "collapsed": true
   },
   "outputs": [],
   "source": [
    "prices = pd.DataFrame()\n",
    "for year in ['2015', '2016', '2017']:\n",
    "    price_per_year = yahoo.loc[year, ['Close']].reset_index(drop=True)\n",
    "    price_per_year.rename(columns={'Close': year}, inplace=True)\n",
    "    prices = pd.concat([prices, price_per_year], axis=1)"
   ]
  },
  {
   "cell_type": "code",
   "execution_count": 22,
   "metadata": {},
   "outputs": [
    {
     "name": "stderr",
     "output_type": "stream",
     "text": [
      "C:\\Users\\prateek1.gupta\\AppData\\Local\\Continuum\\anaconda3\\lib\\site-packages\\matplotlib\\axes\\_base.py:2918: UserWarning: Attempting to set identical left==right results\n",
      "in singular transformations; automatically expanding.\n",
      "left=0.0, right=0.0\n",
      "  'left=%s, right=%s') % (left, right))\n"
     ]
    },
    {
     "data": {
      "image/png": "[encoded data removed]",
      "text/plain": [
       "<matplotlib.figure.Figure at 0x2700ef02ba8>"
      ]
     },
     "metadata": {},
     "output_type": "display_data"
    }
   ],
   "source": [
    "prices.plot()\n",
    "plt.show();"
   ]
  },
  {
   "cell_type": "code",
   "execution_count": 24,
   "metadata": {},
   "outputs": [
    {
     "data": {
      "image/png": "[encoded data removed]",
      "text/plain": [
       "<matplotlib.figure.Figure at 0x2700ef025c0>"
      ]
     },
     "metadata": {},
     "output_type": "display_data"
    }
   ],
   "source": [
    "air_quality_df = air_quality_df.asfreq('D')\n",
    "air_quality_df.plot(subplots=True)\n",
    "plt.show()"
   ]
  },
  {
   "cell_type": "code",
   "execution_count": null,
   "metadata": {
    "collapsed": true
   },
   "outputs": [],
   "source": []
  }
 ],
 "metadata": {
  "kernelspec": {
   "display_name": "Python 3",
   "language": "python",
   "name": "python3"
  },
  "language_info": {
   "codemirror_mode": {
    "name": "ipython",
    "version": 3
   },
   "file_extension": ".py",
   "mimetype": "text/x-python",
   "name": "python",
   "nbconvert_exporter": "python",
   "pygments_lexer": "ipython3",
   "version": "3.6.3"
  }
 },
 "nbformat": 4,
 "nbformat_minor": 2
}
